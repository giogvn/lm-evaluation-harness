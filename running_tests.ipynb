{
 "cells": [
  {
   "cell_type": "code",
   "execution_count": 1,
   "metadata": {},
   "outputs": [],
   "source": [
    "import json, os\n",
    "from copy import deepcopy\n",
    "from pathlib import Path\n",
    "import torch\n",
    "\n",
    "results_output_path = \"results\""
   ]
  },
  {
   "cell_type": "code",
   "execution_count": 2,
   "metadata": {},
   "outputs": [
    {
     "name": "stdout",
     "output_type": "stream",
     "text": [
      "--machine=p3.2xlarge --model=hf-causal --model_args=pretrained=meta-llama/Llama-2-7b-chat-hf --tasks=arc_challenge --num_fewshot=25 --batch_size=2 --output_path=results/Llama-2-7b-chat-hf/arc_challenge\n"
     ]
    },
    {
     "name": "stdout",
     "output_type": "stream",
     "text": [
      "Token will not been saved to git credential helper. Pass `add_to_git_credential=True` if you want to set the git credential as well.\n",
      "Token is valid (permission: read).\n",
      "Your token has been saved to /home/ubuntu/.cache/huggingface/token\n",
      "Login successful\n",
      "Selected Tasks: ['arc_challenge']\n",
      "Using device 'cuda'\n",
      "Downloading shards: 100%|█████████████████████████| 2/2 [00:00<00:00, 29.68it/s]\n"
     ]
    }
   ],
   "source": [
    "call = \"python main.py --model=hf-causal\"\n",
    "\n",
    "\n",
    "with open(\"run_arguments.json\", \"r\") as f:\n",
    "    args = json.load(f)\n",
    "\n",
    "\n",
    "def fill_args(fillers: list, args: list):\n",
    "    j = 0\n",
    "    for i, val in enumerate(args):\n",
    "        if not val:\n",
    "            args[i] = fillers[j]\n",
    "            j +=1\n",
    "    return args\n",
    "\n",
    "def mount_run_args(args: dict) -> str:\n",
    "    out = []\n",
    "    for key, val in args.items():\n",
    "        if key == \"--model_args='pretrained=\":\n",
    "             val = ','.join(val)\n",
    "        if type(val) == list:\n",
    "            val = ' '.join(val)\n",
    "            args[key] = val\n",
    "        out.append(key+val)\n",
    "        \n",
    "    return ' '.join(out)\n",
    "\n",
    "def validate_output_path(model: str, task: str, base_path: str = \"results\") -> str:\n",
    "\n",
    "    model = model.split('/')\n",
    "    if len(model) > 1:\n",
    "        model = model[-1]\n",
    "    else:\n",
    "        model = model[0]    \n",
    "    \n",
    "    base_path = base_path / Path(model)\n",
    "    if not os.path.exists(base_path):\n",
    "        os.makedirs(base_path)\n",
    "    full_path = base_path / task\n",
    "    with open(full_path, 'w') as f:\n",
    "        pass\n",
    "    return str(full_path)\n",
    "\n",
    "def get_task_few_shot_num(args: dict, task: str) -> str:\n",
    "    for t, val in args[\"few_shot\"].items():\n",
    "        found = task.find(t)\n",
    "        if found != -1:\n",
    "            return val\n",
    "\n",
    "cheap_tasks = [\"truthfulqa_mc\"]\n",
    "\n",
    "call_args = {\"--machine=\": \"p3.2xlarge\", \n",
    "             \"--model=\": \"hf-causal\",\n",
    "             \"--model_args=pretrained=\": [None],\n",
    "             \"--tasks=\" : [None],\n",
    "              \"--num_fewshot=\" : [None],\n",
    "              \"--batch_size=\" : ['2'],\n",
    "              \"--output_path=\": [None]}\n",
    "\n",
    "for model in args['models']:\n",
    "    for task in args['cheap_tasks']:\n",
    "        output_path = validate_output_path(model, task)\n",
    "        new_args = deepcopy(call_args)\n",
    "        new_args[\"--model_args=pretrained=\"] = fill_args([model], new_args[\"--model_args=pretrained=\"])\n",
    "        new_args[\"--tasks=\"] = fill_args([task], new_args[\"--tasks=\"])\n",
    "        num_fewshot = get_task_few_shot_num(args, task)\n",
    "        new_args[\"--num_fewshot=\"] = fill_args([num_fewshot], new_args[\"--num_fewshot=\"])\n",
    "        new_args[\"--output_path=\"] = fill_args([output_path], new_args[\"--output_path=\"])\n",
    "        run_args = mount_run_args(new_args)\n",
    "        print(run_args)\n",
    "        !python main.py {run_args}\n",
    "        torch.cuda.empty_cache()\n",
    "\n"
   ]
  }
 ],
 "metadata": {
  "kernelspec": {
   "display_name": ".venv",
   "language": "python",
   "name": "python3"
  },
  "language_info": {
   "codemirror_mode": {
    "name": "ipython",
    "version": 3
   },
   "file_extension": ".py",
   "mimetype": "text/x-python",
   "name": "python",
   "nbconvert_exporter": "python",
   "pygments_lexer": "ipython3",
   "version": "3.10.9"
  }
 },
 "nbformat": 4,
 "nbformat_minor": 2
}

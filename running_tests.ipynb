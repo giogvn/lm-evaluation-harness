{
 "cells": [
  {
   "cell_type": "code",
   "execution_count": 1,
   "metadata": {},
   "outputs": [],
   "source": [
    "import json, os\n",
    "from copy import deepcopy\n",
    "from pathlib import Path\n",
    "import torch\n",
    "import pandas as pd\n",
    "from file_utils import RESULTS_COLUMNS, MACHINE, STRATEGY, LIMIT\n",
    "import file_utils as fu\n",
    "results_output_path = \"results\""
   ]
  },
  {
   "cell_type": "code",
   "execution_count": 2,
   "metadata": {},
   "outputs": [
    {
     "name": "stdout",
     "output_type": "stream",
     "text": [
      "--machine=p3.2xlarge --model=hf-causal --model_args=pretrained=meta-llama/Llama-2-7b-chat-hf --tasks=truthfulqa_mc --num_fewshot=0 --batch_size=2 --output_path=results/Llama-2-7b-chat-hf/truthfulqa_mc\n"
     ]
    },
    {
     "name": "stdout",
     "output_type": "stream",
     "text": [
      "Token will not been saved to git credential helper. Pass `add_to_git_credential=True` if you want to set the git credential as well.\n",
      "Token is valid (permission: read).\n",
      "Your token has been saved to /home/ubuntu/.cache/huggingface/token\n",
      "Login successful\n",
      "Selected Tasks: ['truthfulqa_mc']\n",
      "Using device 'cuda'\n"
     ]
    }
   ],
   "source": [
    "call_args = {\"--machine=\": MACHINE, \n",
    "             \"--model=\": \"hf-causal\",\n",
    "             \"--model_args=pretrained=\": [None],\n",
    "             \"--tasks=\" : [None],\n",
    "              \"--num_fewshot=\" : [None],\n",
    "              \"--batch_size=\" : ['2'],\n",
    "              \"--output_path=\": [None]\n",
    "              }\n",
    "\n",
    "\n",
    "with open(\"run_arguments.json\", \"r\") as f:\n",
    "    run_args = json.load(f)\n",
    "call = \"python main.py --model=hf-causal\"\n",
    "\n",
    "n_rounds = 5\n",
    "elapsed_times_path = \"tests_elapsed_times.json\"\n",
    "\n",
    "\n",
    "run_df_args = {col: None for col in RESULTS_COLUMNS} \n",
    "run_df_args[\"machine\"] = MACHINE\n",
    "run_df_args[\"strategy\"] = STRATEGY\n",
    "run_df_args[\"limit\"] = LIMIT\n",
    "\n",
    "for model in run_args['models']:\n",
    "    for task in run_args['cheap_tasks']:\n",
    "        output_path = fu.validate_output_path(model, task)\n",
    "        new_args = deepcopy(call_args)\n",
    "        new_args[\"--model_args=pretrained=\"] = fu.fill_args([model], new_args[\"--model_args=pretrained=\"])\n",
    "        new_args[\"--tasks=\"] = fu.fill_args([task], new_args[\"--tasks=\"])\n",
    "        num_fewshot = fu.get_task_few_shot_num(run_args, task)\n",
    "        new_args[\"--num_fewshot=\"] = fu.fill_args([num_fewshot], new_args[\"--num_fewshot=\"])\n",
    "        new_args[\"--output_path=\"] = fu.fill_args([output_path], new_args[\"--output_path=\"])\n",
    "\n",
    "        run_df_args[\"model\"] = model\n",
    "        run_df_args[\"task\"] = task\n",
    "        run_df_args[\"num_fewshot\"] = num_fewshot\n",
    "        run_df_args[\"machine\"] = num_fewshot\n",
    "        if not fu.run_rounds(run_df_args) > n_rounds:\n",
    "            call = fu.mount_run_args(new_args)\n",
    "            print(call)\n",
    "            !python main.py {call}\n",
    "            torch.cuda.empty_cache()\n"
   ]
  }
 ],
 "metadata": {
  "kernelspec": {
   "display_name": ".venv",
   "language": "python",
   "name": "python3"
  },
  "language_info": {
   "codemirror_mode": {
    "name": "ipython",
    "version": 3
   },
   "file_extension": ".py",
   "mimetype": "text/x-python",
   "name": "python",
   "nbconvert_exporter": "python",
   "pygments_lexer": "ipython3",
   "version": "3.10.9"
  }
 },
 "nbformat": 4,
 "nbformat_minor": 2
}
